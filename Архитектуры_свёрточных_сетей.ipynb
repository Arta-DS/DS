{
  "nbformat": 4,
  "nbformat_minor": 0,
  "metadata": {
    "colab": {
      "provenance": [],
      "authorship_tag": "ABX9TyMQgj9k2Gyf58h91paPCqJR",
      "include_colab_link": true
    },
    "kernelspec": {
      "name": "python3",
      "display_name": "Python 3"
    },
    "language_info": {
      "name": "python"
    }
  },
  "cells": [
    {
      "cell_type": "markdown",
      "metadata": {
        "id": "view-in-github",
        "colab_type": "text"
      },
      "source": [
        "<a href=\"https://colab.research.google.com/github/Arta-DS/DS/blob/main/%D0%90%D1%80%D1%85%D0%B8%D1%82%D0%B5%D0%BA%D1%82%D1%83%D1%80%D1%8B_%D1%81%D0%B2%D1%91%D1%80%D1%82%D0%BE%D1%87%D0%BD%D1%8B%D1%85_%D1%81%D0%B5%D1%82%D0%B5%D0%B9.ipynb\" target=\"_parent\"><img src=\"https://colab.research.google.com/assets/colab-badge.svg\" alt=\"Open In Colab\"/></a>"
      ]
    },
    {
      "cell_type": "markdown",
      "source": [
        "Контекст\n",
        "\n",
        "Подберите базовую модель для работы по вашей задаче. Попробуйте обучить различные модели на «ваших» данных. По результатам выберите лучшую модель для дальнейшего обучения.\n",
        "\n",
        "Задание\n",
        "\n",
        "Проведите эксперименты по начальному обучению различных моделей и сравните результаты.\n",
        "\n",
        "*   Возьмите датасет EMNIST из torchvision.\n",
        "*   Обучите на нём модели: ResNet 18, VGG 16, Inception v3, DenseNet 161:\n",
        "желательно обучить каждую модель с нуля по 10 эпох\n",
        "если ресурсов компьютера / Colab не хватает, достаточно обучить каждую модель по 1-2 эпохи\n",
        "*   Сведите результаты обучения моделей (графики лосса) в таблицу и сравните их."
      ],
      "metadata": {
        "id": "Wx6XFD1v2atz"
      }
    },
    {
      "cell_type": "code",
      "execution_count": 10,
      "metadata": {
        "id": "F2msq5A3s_w1"
      },
      "outputs": [],
      "source": [
        "import torch\n",
        "import torchvision\n",
        "import torchvision.transforms as transforms\n",
        "from torch.utils.data import DataLoader\n",
        "import torch.nn as nn\n",
        "import torch.optim as optim\n",
        "import matplotlib.pyplot as plt\n",
        "import pandas as pd\n",
        "import warnings\n",
        "warnings.filterwarnings('ignore')\n",
        "import random\n",
        "from torch.utils.data import Subset"
      ]
    },
    {
      "cell_type": "code",
      "source": [
        "# 1. Настройка устройства (GPU/CPU)\n",
        "\n",
        "device = torch.device('cuda' if torch.cuda.is_available() else 'cpu')\n",
        "print(f'Используется устройство: {device}')"
      ],
      "metadata": {
        "colab": {
          "base_uri": "https://localhost:8080/"
        },
        "id": "rJ9MGglhxDxn",
        "outputId": "1e078281-9d19-4668-8aa3-caf739efcee1"
      },
      "execution_count": 42,
      "outputs": [
        {
          "output_type": "stream",
          "name": "stdout",
          "text": [
            "Используется устройство: cpu\n"
          ]
        }
      ]
    },
    {
      "cell_type": "code",
      "source": [
        "\n",
        "# Общий датасет (без transform!)\n",
        "raw_train_dataset = torchvision.datasets.EMNIST(\n",
        "    root='./data', split='letters', train=True, download=True\n",
        ")\n",
        "raw_test_dataset = torchvision.datasets.EMNIST(\n",
        "    root='./data', split='letters', train=False, download=True\n",
        ")\n",
        "\n",
        "num_classes = 26\n",
        "\n",
        "# Подвыборка для ускорения (на основе индексов, без transform)\n",
        "subset_size = 6000\n",
        "indices = random.sample(range(len(raw_train_dataset)), subset_size)\n",
        "\n",
        "def get_transform_for_model(model_name):\n",
        "    if model_name == \"ResNet18\":\n",
        "        return transforms.Compose([\n",
        "            transforms.ToTensor(),\n",
        "            transforms.Normalize((0.1751,), (0.3332,))\n",
        "        ])\n",
        "    else:\n",
        "        if model_name == \"InceptionV3\":\n",
        "            size = (96, 96)\n",
        "        else:\n",
        "            size = (64, 64)\n",
        "\n",
        "        return transforms.Compose([\n",
        "            transforms.Resize(size),\n",
        "            transforms.Grayscale(num_output_channels=3),\n",
        "            transforms.ToTensor(),\n",
        "            transforms.Normalize(mean=[0.485, 0.456, 0.406],\n",
        "                                 std=[0.229, 0.224, 0.225])\n",
        "        ])\n",
        "\n",
        "def get_model(model_name, num_classes):\n",
        "    if model_name == \"ResNet18\":\n",
        "        model = torchvision.models.resnet18(weights=None)\n",
        "        model.conv1 = nn.Conv2d(1, 64, kernel_size=7, stride=2, padding=3, bias=False)\n",
        "        model.fc = nn.Linear(model.fc.in_features, num_classes)\n",
        "    elif model_name == \"VGG16\":\n",
        "        model = torchvision.models.vgg16(weights=None)\n",
        "        model.classifier[6] = nn.Linear(model.classifier[6].in_features, num_classes)\n",
        "    elif model_name == \"InceptionV3\":\n",
        "        model = torchvision.models.inception_v3(weights=None, aux_logits=False)\n",
        "        model.fc = nn.Linear(model.fc.in_features, num_classes)\n",
        "    elif model_name == \"DenseNet161\":\n",
        "        model = torchvision.models.densenet161(weights=None)\n",
        "        model.classifier = nn.Linear(model.classifier.in_features, num_classes)\n",
        "    else:\n",
        "        raise ValueError(f\"Неизвестная модель: {model_name}\")\n",
        "    return model.to(device)\n",
        "\n",
        "# Эксперимент\n",
        "model_names = [\"ResNet18\", \"VGG16\", \"InceptionV3\", \"DenseNet161\"]\n",
        "results = {}\n",
        "num_epochs = 2\n",
        "\n",
        "for name in model_names:\n",
        "    print(f\"\\nОбучение модели: {name}\")\n",
        "\n",
        "    # 1. Получаем transform, специфичный для модели\n",
        "    transform = get_transform_for_model(name)\n",
        "\n",
        "    # 2. Применяем transform к подвыборке\n",
        "    train_dataset = Subset(\n",
        "        torchvision.datasets.EMNIST(root='./data', split='letters', train=True, transform=transform),\n",
        "        indices\n",
        "    )\n",
        "    test_dataset = torchvision.datasets.EMNIST(root='./data', split='letters', train=False, transform=transform)\n",
        "\n",
        "    # 3. DataLoader\n",
        "    batch_size = 32 if name == \"ResNet18\" else 16\n",
        "    train_loader = DataLoader(train_dataset, batch_size=batch_size, shuffle=True)\n",
        "    test_loader = DataLoader(test_dataset, batch_size=batch_size, shuffle=False)\n",
        "\n",
        "    # 4. Обучение\n",
        "    try:\n",
        "        model = get_model(name, num_classes)\n",
        "        criterion = nn.CrossEntropyLoss()\n",
        "        optimizer = optim.Adam(model.parameters(), lr=0.001)\n",
        "        losses = train_model(model, train_loader, criterion, optimizer, num_epochs)\n",
        "        results[name] = losses\n",
        "    except Exception as e:\n",
        "        print(f\"Ошибка: {e}\")\n",
        "        results[name] = [float('inf')] * num_epochs"
      ],
      "metadata": {
        "colab": {
          "base_uri": "https://localhost:8080/"
        },
        "id": "5NVruz0ocdJq",
        "outputId": "d789198f-54e2-49be-d42d-37e63001dc2a"
      },
      "execution_count": 60,
      "outputs": [
        {
          "output_type": "stream",
          "name": "stdout",
          "text": [
            "\n",
            "Обучение модели: ResNet18\n",
            "Эпоха [1/2], Потери: 1.1181\n",
            "Эпоха [2/2], Потери: 0.5776\n",
            "\n",
            "Обучение модели: VGG16\n",
            "Эпоха [1/2], Потери: 4.7128\n",
            "Эпоха [2/2], Потери: 3.2581\n",
            "\n",
            "Обучение модели: InceptionV3\n",
            "Эпоха [1/2], Потери: 2.0043\n",
            "Эпоха [2/2], Потери: 1.1099\n",
            "\n",
            "Обучение модели: DenseNet161\n",
            "Эпоха [1/2], Потери: 1.0532\n",
            "Эпоха [2/2], Потери: 0.5366\n"
          ]
        }
      ]
    },
    {
      "cell_type": "code",
      "source": [
        "# 6. Создание сводной таблицы и графика\n",
        "# Создаем DataFrame для удобного отображения\n",
        "df_losses = pd.DataFrame(results)\n",
        "print(\"\\nСводная таблица потерь по эпохам:\")\n",
        "print(df_losses)"
      ],
      "metadata": {
        "colab": {
          "base_uri": "https://localhost:8080/"
        },
        "id": "HONmGv26xccN",
        "outputId": "363d488a-2da9-4929-9328-b1a3e94d43f1"
      },
      "execution_count": 61,
      "outputs": [
        {
          "output_type": "stream",
          "name": "stdout",
          "text": [
            "\n",
            "Сводная таблица потерь по эпохам:\n",
            "   ResNet18     VGG16  InceptionV3  DenseNet161\n",
            "0  1.118076  4.712798     2.004295     1.053248\n",
            "1  0.577553  3.258085     1.109874     0.536589\n"
          ]
        }
      ]
    },
    {
      "cell_type": "code",
      "source": [
        "# Построение графика\n",
        "plt.figure(figsize=(10, 6))\n",
        "for model_name in model_names:\n",
        "    if model_name in df_losses.columns:\n",
        "        plt.plot(df_losses.index+1, df_losses[model_name], label=model_name, marker='o')\n",
        "\n",
        "plt.xlabel('Эпоха')\n",
        "plt.ylabel('Потери (Loss)')\n",
        "plt.title('Сравнение потерь при обучении')\n",
        "plt.legend()\n",
        "plt.grid(True)\n",
        "plt.xticks(range(1, num_epochs+1))\n",
        "plt.show()"
      ],
      "metadata": {
        "colab": {
          "base_uri": "https://localhost:8080/",
          "height": 564
        },
        "id": "x5o1n4DUxcgP",
        "outputId": "412fc5fb-daf8-43f6-decc-5e33e5b2a276"
      },
      "execution_count": 62,
      "outputs": [
        {
          "output_type": "display_data",
          "data": {
            "text/plain": [
              "<Figure size 1000x600 with 1 Axes>"
            ],
            "image/png": "[encoded data removed]"
          },
          "metadata": {}
        }
      ]
    },
    {
      "cell_type": "code",
      "source": [
        "# Вывод финальных результатов\n",
        "print(\"\\nФинальные потери после обучения:\")\n",
        "final_losses = {name: losses[-1] for name, losses in results.items()}\n",
        "for name, loss in final_losses.items():\n",
        "    print(f\"{name}: {loss:.4f}\")"
      ],
      "metadata": {
        "colab": {
          "base_uri": "https://localhost:8080/"
        },
        "id": "r6Nik4m9xnHt",
        "outputId": "81b07840-fca6-4ea0-b74f-22f7c217258f"
      },
      "execution_count": 63,
      "outputs": [
        {
          "output_type": "stream",
          "name": "stdout",
          "text": [
            "\n",
            "Финальные потери после обучения:\n",
            "ResNet18: 0.5776\n",
            "VGG16: 3.2581\n",
            "InceptionV3: 1.1099\n",
            "DenseNet161: 0.5366\n"
          ]
        }
      ]
    },
    {
      "cell_type": "markdown",
      "source": [
        "В ходе эксперимента все четыре архитектуры (ResNet18, VGG16, Inception v3, DenseNet161) были успешно адаптированы и обучены на датасете **EMNIST** с учётом их требований к входному разрешению.\n",
        "\n",
        "Лучший результат показала **DenseNet161** (финальные потери: 0.5366), что подтверждает эффективность её плотных связей между слоями.\n",
        "\n",
        "**ResNet18** продемонстрировала сопоставимое качество (0.5776) при значительно меньших вычислительных затратах, что делает её предпочтительной для задач с ограниченными ресурсами.\n",
        "\n",
        "**VGG16** показала наихудшую сходимость, вероятно, из-за избыточной сложности архитектуры для данного объёма данных.\n",
        "\n",
        "Таким образом, для задач классификации на датасетах среднего размера (вроде EMNIST) рекомендуется использовать DenseNet161 (при наличии ресурсов) или ResNet18 (для баланса скорости и качества)"
      ],
      "metadata": {
        "id": "YnTcUUyY3guq"
      }
    }
  ]
}