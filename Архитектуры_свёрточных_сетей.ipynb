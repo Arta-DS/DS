{
  "nbformat": 4,
  "nbformat_minor": 0,
  "metadata": {
    "colab": {
      "provenance": [],
      "authorship_tag": "ABX9TyM4PIv6aIs6La7W21erCKt1",
      "include_colab_link": true
    },
    "kernelspec": {
      "name": "python3",
      "display_name": "Python 3"
    },
    "language_info": {
      "name": "python"
    }
  },
  "cells": [
    {
      "cell_type": "markdown",
      "metadata": {
        "id": "view-in-github",
        "colab_type": "text"
      },
      "source": [
        "<a href=\"https://colab.research.google.com/github/Arta-DS/DS/blob/main/%D0%90%D1%80%D1%85%D0%B8%D1%82%D0%B5%D0%BA%D1%82%D1%83%D1%80%D1%8B_%D1%81%D0%B2%D1%91%D1%80%D1%82%D0%BE%D1%87%D0%BD%D1%8B%D1%85_%D1%81%D0%B5%D1%82%D0%B5%D0%B9.ipynb\" target=\"_parent\"><img src=\"https://colab.research.google.com/assets/colab-badge.svg\" alt=\"Open In Colab\"/></a>"
      ]
    },
    {
      "cell_type": "code",
      "execution_count": 10,
      "metadata": {
        "id": "F2msq5A3s_w1"
      },
      "outputs": [],
      "source": [
        "import torch\n",
        "import torchvision\n",
        "import torchvision.transforms as transforms\n",
        "from torch.utils.data import DataLoader\n",
        "import torch.nn as nn\n",
        "import torch.optim as optim\n",
        "import matplotlib.pyplot as plt\n",
        "import pandas as pd\n",
        "import warnings\n",
        "warnings.filterwarnings('ignore')"
      ]
    },
    {
      "cell_type": "code",
      "source": [
        "# 1. Настройка устройства (GPU/CPU)\n",
        "\n",
        "device = torch.device('cuda' if torch.cuda.is_available() else 'cpu')\n",
        "print(f'Используется устройство: {device}')"
      ],
      "metadata": {
        "colab": {
          "base_uri": "https://localhost:8080/"
        },
        "id": "rJ9MGglhxDxn",
        "outputId": "1e078281-9d19-4668-8aa3-caf739efcee1"
      },
      "execution_count": 42,
      "outputs": [
        {
          "output_type": "stream",
          "name": "stdout",
          "text": [
            "Используется устройство: cpu\n"
          ]
        }
      ]
    },
    {
      "cell_type": "code",
      "source": [
        "# 2. Загрузка и предварительная обработка данных EMNIST\n",
        "transform = transforms.Compose([\n",
        "    transforms.ToTensor(),\n",
        "    transforms.Normalize((0.1751,), (0.3332,))\n",
        "])\n",
        "\n",
        "train_dataset = torchvision.datasets.EMNIST(\n",
        "    root='./data', split='letters', train=True, download=True, transform=transform\n",
        ")\n",
        "test_dataset = torchvision.datasets.EMNIST(\n",
        "    root='./data', split='letters', train=False, download=True, transform=transform\n",
        ")\n",
        "\n",
        "#Создаём подвыборку ТОЛЬКО для обучения\n",
        "subset_size = 8000\n",
        "small_train_dataset = torch.utils.data.Subset(train_dataset, list(range(subset_size)))\n",
        "\n",
        "#Используем ПОДВЫБОРКУ для train_loader\n",
        "batch_size = 64\n",
        "train_loader = DataLoader(small_train_dataset, batch_size=batch_size, shuffle=True)\n",
        "test_loader = DataLoader(test_dataset, batch_size=batch_size, shuffle=False)\n",
        "\n",
        "num_classes = len(train_dataset.classes) - 1\n",
        "print(f'Количество классов: {num_classes}')"
      ],
      "metadata": {
        "colab": {
          "base_uri": "https://localhost:8080/"
        },
        "id": "c2t_wt1dxK59",
        "outputId": "d475ba67-2301-40c0-ef1a-023a32bc9134"
      },
      "execution_count": 51,
      "outputs": [
        {
          "output_type": "stream",
          "name": "stdout",
          "text": [
            "Количество классов: 26\n"
          ]
        }
      ]
    },
    {
      "cell_type": "code",
      "source": [
        "# 3. Функция для получения готовой модели из torchvision\n",
        "def get_model(model_name, num_classes):\n",
        "    if model_name == \"ResNet18\":\n",
        "        model = torchvision.models.resnet18(weights=None)\n",
        "        # Меняем первый слой: 1 входной канал вместо 3\n",
        "        model.conv1 = nn.Conv2d(1, 64, kernel_size=7, stride=2, padding=3, bias=False)\n",
        "        # Меняем классификатор под 26 классов\n",
        "        model.fc = nn.Linear(model.fc.in_features, num_classes)\n",
        "        return model.to(device)"
      ],
      "metadata": {
        "id": "2V4DDf43xQaU"
      },
      "execution_count": 52,
      "outputs": []
    },
    {
      "cell_type": "code",
      "source": [
        "# 4. Функция для обучения модели\n",
        "def train_model(model, train_loader, criterion, optimizer, num_epochs=10):\n",
        "    model.train()\n",
        "    train_losses = []\n",
        "\n",
        "    for epoch in range(num_epochs):\n",
        "        running_loss = 0.0\n",
        "        for i, (images, labels) in enumerate(train_loader):\n",
        "            # Для EMNIST Letters метки начинаются с 1, приводим к 0-индексации\n",
        "            labels = labels - 1\n",
        "            images, labels = images.to(device), labels.to(device)\n",
        "\n",
        "            optimizer.zero_grad()\n",
        "            outputs = model(images)\n",
        "            loss = criterion(outputs, labels)\n",
        "            loss.backward()\n",
        "            optimizer.step()\n",
        "\n",
        "            running_loss += loss.item()\n",
        "\n",
        "        epoch_loss = running_loss / len(train_loader)\n",
        "        train_losses.append(epoch_loss)\n",
        "        print(f'Эпоха [{epoch+1}/{num_epochs}], Потери: {epoch_loss:.4f}')\n",
        "\n",
        "    return train_losses"
      ],
      "metadata": {
        "id": "VY5PsMg_xWij"
      },
      "execution_count": 53,
      "outputs": []
    },
    {
      "cell_type": "code",
      "source": [
        "# 5. Проведение экспериментов\n",
        "model_names = [\"ResNet18\"]\n",
        "results = {}\n",
        "num_epochs = 10\n",
        "\n",
        "for name in model_names:\n",
        "    print(f\"\\nОбучение модели: {name}\")\n",
        "    try:\n",
        "        model = get_model(name, num_classes)\n",
        "        criterion = nn.CrossEntropyLoss()\n",
        "        optimizer = optim.Adam(model.parameters(), lr=0.001)\n",
        "\n",
        "        losses = train_model(model, train_loader, criterion, optimizer, num_epochs)\n",
        "        results[name] = losses\n",
        "\n",
        "    except Exception as e:\n",
        "        print(f\"Ошибка при обучении {name}: {e}\")\n",
        "        results[name] = [float('inf')] * num_epochs"
      ],
      "metadata": {
        "colab": {
          "base_uri": "https://localhost:8080/"
        },
        "id": "g_l-4xqRxcYQ",
        "outputId": "60b1bfb2-62a8-45c1-d095-d2aa6e9d490f"
      },
      "execution_count": 54,
      "outputs": [
        {
          "output_type": "stream",
          "name": "stdout",
          "text": [
            "\n",
            "Обучение модели: ResNet18\n",
            "Эпоха [1/10], Потери: 0.9507\n",
            "Эпоха [2/10], Потери: 0.4239\n",
            "Эпоха [3/10], Потери: 0.3133\n",
            "Эпоха [4/10], Потери: 0.2614\n",
            "Эпоха [5/10], Потери: 0.2164\n",
            "Эпоха [6/10], Потери: 0.2108\n",
            "Эпоха [7/10], Потери: 0.1655\n",
            "Эпоха [8/10], Потери: 0.1464\n",
            "Эпоха [9/10], Потери: 0.1600\n",
            "Эпоха [10/10], Потери: 0.1337\n"
          ]
        }
      ]
    },
    {
      "cell_type": "code",
      "source": [
        "# 6. Создание сводной таблицы и графика\n",
        "# Создаем DataFrame для удобного отображения\n",
        "df_losses = pd.DataFrame(results)\n",
        "print(\"\\nСводная таблица потерь по эпохам:\")\n",
        "print(df_losses)"
      ],
      "metadata": {
        "colab": {
          "base_uri": "https://localhost:8080/"
        },
        "id": "HONmGv26xccN",
        "outputId": "bce72b04-4b18-4dd4-fcbe-6560c24c18d1"
      },
      "execution_count": 55,
      "outputs": [
        {
          "output_type": "stream",
          "name": "stdout",
          "text": [
            "\n",
            "Сводная таблица потерь по эпохам:\n",
            "   ResNet18\n",
            "0  0.950696\n",
            "1  0.423943\n",
            "2  0.313303\n",
            "3  0.261372\n",
            "4  0.216381\n",
            "5  0.210784\n",
            "6  0.165476\n",
            "7  0.146425\n",
            "8  0.159987\n",
            "9  0.133726\n"
          ]
        }
      ]
    },
    {
      "cell_type": "code",
      "source": [
        "# Построение графика\n",
        "plt.figure(figsize=(10, 6))\n",
        "for model_name in model_names:\n",
        "    if model_name in df_losses.columns:\n",
        "        plt.plot(df_losses.index+1, df_losses[model_name], label=model_name, marker='o')\n",
        "\n",
        "plt.xlabel('Эпоха')\n",
        "plt.ylabel('Потери (Loss)')\n",
        "plt.title('Сравнение потерь при обучении')\n",
        "plt.legend()\n",
        "plt.grid(True)\n",
        "plt.xticks(range(1, num_epochs+1))\n",
        "plt.show()"
      ],
      "metadata": {
        "colab": {
          "base_uri": "https://localhost:8080/",
          "height": 564
        },
        "id": "x5o1n4DUxcgP",
        "outputId": "1252b139-d0e5-40b7-bf7e-1a4cf12fdc48"
      },
      "execution_count": 58,
      "outputs": [
        {
          "output_type": "display_data",
          "data": {
            "text/plain": [
              "<Figure size 1000x600 with 1 Axes>"
            ],
            "image/png": "[encoded data removed]"
          },
          "metadata": {}
        }
      ]
    },
    {
      "cell_type": "code",
      "source": [
        "# Вывод финальных результатов\n",
        "print(\"\\nФинальные потери после обучения:\")\n",
        "final_losses = {name: losses[-1] for name, losses in results.items()}\n",
        "for name, loss in final_losses.items():\n",
        "    print(f\"{name}: {loss:.4f}\")"
      ],
      "metadata": {
        "colab": {
          "base_uri": "https://localhost:8080/"
        },
        "id": "r6Nik4m9xnHt",
        "outputId": "02eada4e-14be-40bf-885e-b478ac3fad76"
      },
      "execution_count": 59,
      "outputs": [
        {
          "output_type": "stream",
          "name": "stdout",
          "text": [
            "\n",
            "Финальные потери после обучения:\n",
            "ResNet18: 0.1337\n"
          ]
        }
      ]
    },
    {
      "cell_type": "markdown",
      "source": [
        "Попытки применения других популярных архитектур (VGG16, Inception v3, DenseNet161) оказались неудачными из-за их внутренней структуры, предполагающей входные изображения значительно большего размера (≥64×64).\n",
        "\n",
        "Это подчеркивает важность соответствия архитектуры характеристикам данных."
      ],
      "metadata": {
        "id": "mFEWwRqQxwEp"
      }
    }
  ]
}